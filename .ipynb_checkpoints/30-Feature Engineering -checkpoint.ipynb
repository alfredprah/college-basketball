{
 "cells": [
  {
   "cell_type": "markdown",
   "metadata": {},
   "source": [
    "### Run 10_import notebook before proceeding with work in this notebook:"
   ]
  },
  {
   "cell_type": "code",
   "execution_count": 2,
   "metadata": {},
   "outputs": [
    {
     "name": "stdout",
     "output_type": "stream",
     "text": [
      "<class 'pandas.core.frame.DataFrame'>\n",
      "RangeIndex: 1757 entries, 0 to 1756\n",
      "Data columns (total 24 columns):\n",
      "TEAM          1757 non-null object\n",
      "CONF          1757 non-null object\n",
      "G             1757 non-null int64\n",
      "W             1757 non-null int64\n",
      "ADJOE         1757 non-null float64\n",
      "ADJDE         1757 non-null float64\n",
      "BARTHAG       1757 non-null float64\n",
      "EFG_O         1757 non-null float64\n",
      "EFG_D         1757 non-null float64\n",
      "TOR           1757 non-null float64\n",
      "TORD          1757 non-null float64\n",
      "ORB           1757 non-null float64\n",
      "DRB           1757 non-null float64\n",
      "FTR           1757 non-null float64\n",
      "FTRD          1757 non-null float64\n",
      "2P_O          1757 non-null float64\n",
      "2P_D          1757 non-null float64\n",
      "3P_O          1757 non-null float64\n",
      "3P_D          1757 non-null float64\n",
      "ADJ_T         1757 non-null float64\n",
      "WAB           1757 non-null float64\n",
      "POSTSEASON    340 non-null object\n",
      "SEED          340 non-null float64\n",
      "YEAR          1757 non-null int64\n",
      "dtypes: float64(18), int64(3), object(3)\n",
      "memory usage: 329.6+ KB\n",
      "1.0\n",
      "16.0\n"
     ]
    }
   ],
   "source": [
    "%run 10_import_and_inspect.ipynb"
   ]
  },
  {
   "cell_type": "markdown",
   "metadata": {},
   "source": [
    "#### label the target column, 'Y':"
   ]
  },
  {
   "cell_type": "code",
   "execution_count": 3,
   "metadata": {},
   "outputs": [],
   "source": [
    "Y = df['SEED'].copy()"
   ]
  },
  {
   "cell_type": "markdown",
   "metadata": {},
   "source": [
    "#### repalce the null values with 0 since it was confirmed in 10-import_and_inspect Notebook that the null values are non-trivial: represent teams that never made it to the basketball tournament:"
   ]
  },
  {
   "cell_type": "code",
   "execution_count": 4,
   "metadata": {},
   "outputs": [],
   "source": [
    "Y.fillna(0, inplace = True)"
   ]
  },
  {
   "cell_type": "code",
   "execution_count": 5,
   "metadata": {},
   "outputs": [
    {
     "data": {
      "text/plain": [
       "0.0     1417\n",
       "16.0      30\n",
       "11.0      30\n",
       "3.0       21\n",
       "15.0      20\n",
       "10.0      20\n",
       "2.0       20\n",
       "6.0       20\n",
       "9.0       20\n",
       "7.0       20\n",
       "14.0      20\n",
       "5.0       20\n",
       "8.0       20\n",
       "12.0      20\n",
       "13.0      20\n",
       "1.0       20\n",
       "4.0       19\n",
       "Name: SEED, dtype: int64"
      ]
     },
     "execution_count": 5,
     "metadata": {},
     "output_type": "execute_result"
    }
   ],
   "source": [
    "Y.value_counts()"
   ]
  }
 ],
 "metadata": {
  "kernelspec": {
   "display_name": "Python 3",
   "language": "python",
   "name": "python3"
  },
  "language_info": {
   "codemirror_mode": {
    "name": "ipython",
    "version": 3
   },
   "file_extension": ".py",
   "mimetype": "text/x-python",
   "name": "python",
   "nbconvert_exporter": "python",
   "pygments_lexer": "ipython3",
   "version": "3.7.4"
  }
 },
 "nbformat": 4,
 "nbformat_minor": 2
}
