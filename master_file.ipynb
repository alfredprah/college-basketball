{
 "cells": [
  {
   "cell_type": "markdown",
   "metadata": {},
   "source": [
    "#### This file will contain be a combination of all 3 notebooks: 10-import, 20-Exploratory_Data_Analysis, 30-Feature_Engineering, 40-Modeling"
   ]
  },
  {
   "cell_type": "markdown",
   "metadata": {},
   "source": [
    "### 10-import"
   ]
  },
  {
   "cell_type": "markdown",
   "metadata": {},
   "source": [
    "#### Libraries"
   ]
  },
  {
   "cell_type": "code",
   "execution_count": 6,
   "metadata": {},
   "outputs": [],
   "source": [
    "import pandas as pd\n",
    "import numpy as np\n",
    "import matplotlib.pyplot as plt\n",
    "%matplotlib inline\n",
    "import seaborn as sns\n",
    "sns.set()\n",
    "from sklearn import preprocessing\n",
    "from sklearn.model_selection import train_test_split\n",
    "from sklearn import linear_model\n",
    "from sklearn.metrics import roc_auc_score"
   ]
  },
  {
   "cell_type": "markdown",
   "metadata": {},
   "source": [
    "#### Read in data"
   ]
  },
  {
   "cell_type": "code",
   "execution_count": 7,
   "metadata": {},
   "outputs": [],
   "source": [
    "df = pd.read_csv('cbb.csv')"
   ]
  },
  {
   "cell_type": "markdown",
   "metadata": {},
   "source": [
    "#### Inspect data"
   ]
  },
  {
   "cell_type": "code",
   "execution_count": 8,
   "metadata": {},
   "outputs": [
    {
     "data": {
      "text/html": [
       "<div>\n",
       "<style scoped>\n",
       "    .dataframe tbody tr th:only-of-type {\n",
       "        vertical-align: middle;\n",
       "    }\n",
       "\n",
       "    .dataframe tbody tr th {\n",
       "        vertical-align: top;\n",
       "    }\n",
       "\n",
       "    .dataframe thead th {\n",
       "        text-align: right;\n",
       "    }\n",
       "</style>\n",
       "<table border=\"1\" class=\"dataframe\">\n",
       "  <thead>\n",
       "    <tr style=\"text-align: right;\">\n",
       "      <th></th>\n",
       "      <th>TEAM</th>\n",
       "      <th>CONF</th>\n",
       "      <th>G</th>\n",
       "      <th>W</th>\n",
       "      <th>ADJOE</th>\n",
       "      <th>ADJDE</th>\n",
       "      <th>BARTHAG</th>\n",
       "      <th>EFG_O</th>\n",
       "      <th>EFG_D</th>\n",
       "      <th>TOR</th>\n",
       "      <th>...</th>\n",
       "      <th>FTRD</th>\n",
       "      <th>2P_O</th>\n",
       "      <th>2P_D</th>\n",
       "      <th>3P_O</th>\n",
       "      <th>3P_D</th>\n",
       "      <th>ADJ_T</th>\n",
       "      <th>WAB</th>\n",
       "      <th>POSTSEASON</th>\n",
       "      <th>SEED</th>\n",
       "      <th>YEAR</th>\n",
       "    </tr>\n",
       "  </thead>\n",
       "  <tbody>\n",
       "    <tr>\n",
       "      <td>0</td>\n",
       "      <td>North Carolina</td>\n",
       "      <td>ACC</td>\n",
       "      <td>40</td>\n",
       "      <td>33</td>\n",
       "      <td>123.3</td>\n",
       "      <td>94.9</td>\n",
       "      <td>0.9531</td>\n",
       "      <td>52.6</td>\n",
       "      <td>48.1</td>\n",
       "      <td>15.4</td>\n",
       "      <td>...</td>\n",
       "      <td>30.4</td>\n",
       "      <td>53.9</td>\n",
       "      <td>44.6</td>\n",
       "      <td>32.7</td>\n",
       "      <td>36.2</td>\n",
       "      <td>71.7</td>\n",
       "      <td>8.6</td>\n",
       "      <td>2ND</td>\n",
       "      <td>1.0</td>\n",
       "      <td>2016</td>\n",
       "    </tr>\n",
       "    <tr>\n",
       "      <td>1</td>\n",
       "      <td>Wisconsin</td>\n",
       "      <td>B10</td>\n",
       "      <td>40</td>\n",
       "      <td>36</td>\n",
       "      <td>129.1</td>\n",
       "      <td>93.6</td>\n",
       "      <td>0.9758</td>\n",
       "      <td>54.8</td>\n",
       "      <td>47.7</td>\n",
       "      <td>12.4</td>\n",
       "      <td>...</td>\n",
       "      <td>22.4</td>\n",
       "      <td>54.8</td>\n",
       "      <td>44.7</td>\n",
       "      <td>36.5</td>\n",
       "      <td>37.5</td>\n",
       "      <td>59.3</td>\n",
       "      <td>11.3</td>\n",
       "      <td>2ND</td>\n",
       "      <td>1.0</td>\n",
       "      <td>2015</td>\n",
       "    </tr>\n",
       "    <tr>\n",
       "      <td>2</td>\n",
       "      <td>Michigan</td>\n",
       "      <td>B10</td>\n",
       "      <td>40</td>\n",
       "      <td>33</td>\n",
       "      <td>114.4</td>\n",
       "      <td>90.4</td>\n",
       "      <td>0.9375</td>\n",
       "      <td>53.9</td>\n",
       "      <td>47.7</td>\n",
       "      <td>14.0</td>\n",
       "      <td>...</td>\n",
       "      <td>30.0</td>\n",
       "      <td>54.7</td>\n",
       "      <td>46.8</td>\n",
       "      <td>35.2</td>\n",
       "      <td>33.2</td>\n",
       "      <td>65.9</td>\n",
       "      <td>6.9</td>\n",
       "      <td>2ND</td>\n",
       "      <td>3.0</td>\n",
       "      <td>2018</td>\n",
       "    </tr>\n",
       "    <tr>\n",
       "      <td>3</td>\n",
       "      <td>Texas Tech</td>\n",
       "      <td>B12</td>\n",
       "      <td>38</td>\n",
       "      <td>31</td>\n",
       "      <td>115.2</td>\n",
       "      <td>85.2</td>\n",
       "      <td>0.9696</td>\n",
       "      <td>53.5</td>\n",
       "      <td>43.0</td>\n",
       "      <td>17.7</td>\n",
       "      <td>...</td>\n",
       "      <td>36.6</td>\n",
       "      <td>52.8</td>\n",
       "      <td>41.9</td>\n",
       "      <td>36.5</td>\n",
       "      <td>29.7</td>\n",
       "      <td>67.5</td>\n",
       "      <td>7.0</td>\n",
       "      <td>2ND</td>\n",
       "      <td>3.0</td>\n",
       "      <td>2019</td>\n",
       "    </tr>\n",
       "    <tr>\n",
       "      <td>4</td>\n",
       "      <td>Gonzaga</td>\n",
       "      <td>WCC</td>\n",
       "      <td>39</td>\n",
       "      <td>37</td>\n",
       "      <td>117.8</td>\n",
       "      <td>86.3</td>\n",
       "      <td>0.9728</td>\n",
       "      <td>56.6</td>\n",
       "      <td>41.1</td>\n",
       "      <td>16.2</td>\n",
       "      <td>...</td>\n",
       "      <td>26.9</td>\n",
       "      <td>56.3</td>\n",
       "      <td>40.0</td>\n",
       "      <td>38.2</td>\n",
       "      <td>29.0</td>\n",
       "      <td>71.5</td>\n",
       "      <td>7.7</td>\n",
       "      <td>2ND</td>\n",
       "      <td>1.0</td>\n",
       "      <td>2017</td>\n",
       "    </tr>\n",
       "  </tbody>\n",
       "</table>\n",
       "<p>5 rows × 24 columns</p>\n",
       "</div>"
      ],
      "text/plain": [
       "             TEAM CONF   G   W  ADJOE  ADJDE  BARTHAG  EFG_O  EFG_D   TOR  \\\n",
       "0  North Carolina  ACC  40  33  123.3   94.9   0.9531   52.6   48.1  15.4   \n",
       "1       Wisconsin  B10  40  36  129.1   93.6   0.9758   54.8   47.7  12.4   \n",
       "2        Michigan  B10  40  33  114.4   90.4   0.9375   53.9   47.7  14.0   \n",
       "3      Texas Tech  B12  38  31  115.2   85.2   0.9696   53.5   43.0  17.7   \n",
       "4         Gonzaga  WCC  39  37  117.8   86.3   0.9728   56.6   41.1  16.2   \n",
       "\n",
       "   ...  FTRD  2P_O  2P_D  3P_O  3P_D  ADJ_T   WAB  POSTSEASON  SEED  YEAR  \n",
       "0  ...  30.4  53.9  44.6  32.7  36.2   71.7   8.6         2ND   1.0  2016  \n",
       "1  ...  22.4  54.8  44.7  36.5  37.5   59.3  11.3         2ND   1.0  2015  \n",
       "2  ...  30.0  54.7  46.8  35.2  33.2   65.9   6.9         2ND   3.0  2018  \n",
       "3  ...  36.6  52.8  41.9  36.5  29.7   67.5   7.0         2ND   3.0  2019  \n",
       "4  ...  26.9  56.3  40.0  38.2  29.0   71.5   7.7         2ND   1.0  2017  \n",
       "\n",
       "[5 rows x 24 columns]"
      ]
     },
     "execution_count": 8,
     "metadata": {},
     "output_type": "execute_result"
    }
   ],
   "source": [
    "## view the first 5 rows of the dataset\n",
    "df.head()"
   ]
  },
  {
   "cell_type": "code",
   "execution_count": 9,
   "metadata": {},
   "outputs": [
    {
     "name": "stdout",
     "output_type": "stream",
     "text": [
      "<class 'pandas.core.frame.DataFrame'>\n",
      "RangeIndex: 1757 entries, 0 to 1756\n",
      "Data columns (total 24 columns):\n",
      "TEAM          1757 non-null object\n",
      "CONF          1757 non-null object\n",
      "G             1757 non-null int64\n",
      "W             1757 non-null int64\n",
      "ADJOE         1757 non-null float64\n",
      "ADJDE         1757 non-null float64\n",
      "BARTHAG       1757 non-null float64\n",
      "EFG_O         1757 non-null float64\n",
      "EFG_D         1757 non-null float64\n",
      "TOR           1757 non-null float64\n",
      "TORD          1757 non-null float64\n",
      "ORB           1757 non-null float64\n",
      "DRB           1757 non-null float64\n",
      "FTR           1757 non-null float64\n",
      "FTRD          1757 non-null float64\n",
      "2P_O          1757 non-null float64\n",
      "2P_D          1757 non-null float64\n",
      "3P_O          1757 non-null float64\n",
      "3P_D          1757 non-null float64\n",
      "ADJ_T         1757 non-null float64\n",
      "WAB           1757 non-null float64\n",
      "POSTSEASON    340 non-null object\n",
      "SEED          340 non-null float64\n",
      "YEAR          1757 non-null int64\n",
      "dtypes: float64(18), int64(3), object(3)\n",
      "memory usage: 329.6+ KB\n"
     ]
    }
   ],
   "source": [
    "df.info()"
   ]
  },
  {
   "cell_type": "code",
   "execution_count": 10,
   "metadata": {},
   "outputs": [
    {
     "data": {
      "text/html": [
       "<div>\n",
       "<style scoped>\n",
       "    .dataframe tbody tr th:only-of-type {\n",
       "        vertical-align: middle;\n",
       "    }\n",
       "\n",
       "    .dataframe tbody tr th {\n",
       "        vertical-align: top;\n",
       "    }\n",
       "\n",
       "    .dataframe thead th {\n",
       "        text-align: right;\n",
       "    }\n",
       "</style>\n",
       "<table border=\"1\" class=\"dataframe\">\n",
       "  <thead>\n",
       "    <tr style=\"text-align: right;\">\n",
       "      <th></th>\n",
       "      <th>G</th>\n",
       "      <th>W</th>\n",
       "      <th>ADJOE</th>\n",
       "      <th>ADJDE</th>\n",
       "      <th>BARTHAG</th>\n",
       "      <th>EFG_O</th>\n",
       "      <th>EFG_D</th>\n",
       "      <th>TOR</th>\n",
       "      <th>TORD</th>\n",
       "      <th>ORB</th>\n",
       "      <th>...</th>\n",
       "      <th>FTR</th>\n",
       "      <th>FTRD</th>\n",
       "      <th>2P_O</th>\n",
       "      <th>2P_D</th>\n",
       "      <th>3P_O</th>\n",
       "      <th>3P_D</th>\n",
       "      <th>ADJ_T</th>\n",
       "      <th>WAB</th>\n",
       "      <th>SEED</th>\n",
       "      <th>YEAR</th>\n",
       "    </tr>\n",
       "  </thead>\n",
       "  <tbody>\n",
       "    <tr>\n",
       "      <td>count</td>\n",
       "      <td>1757.000000</td>\n",
       "      <td>1757.000000</td>\n",
       "      <td>1757.000000</td>\n",
       "      <td>1757.000000</td>\n",
       "      <td>1757.000000</td>\n",
       "      <td>1757.000000</td>\n",
       "      <td>1757.000000</td>\n",
       "      <td>1757.000000</td>\n",
       "      <td>1757.000000</td>\n",
       "      <td>1757.000000</td>\n",
       "      <td>...</td>\n",
       "      <td>1757.000000</td>\n",
       "      <td>1757.000000</td>\n",
       "      <td>1757.000000</td>\n",
       "      <td>1757.000000</td>\n",
       "      <td>1757.000000</td>\n",
       "      <td>1757.000000</td>\n",
       "      <td>1757.000000</td>\n",
       "      <td>1757.000000</td>\n",
       "      <td>340.000000</td>\n",
       "      <td>1757.000000</td>\n",
       "    </tr>\n",
       "    <tr>\n",
       "      <td>mean</td>\n",
       "      <td>31.523051</td>\n",
       "      <td>16.513375</td>\n",
       "      <td>103.542402</td>\n",
       "      <td>103.542459</td>\n",
       "      <td>0.493398</td>\n",
       "      <td>50.120489</td>\n",
       "      <td>50.312806</td>\n",
       "      <td>18.591804</td>\n",
       "      <td>18.521286</td>\n",
       "      <td>29.277120</td>\n",
       "      <td>...</td>\n",
       "      <td>35.097894</td>\n",
       "      <td>35.373307</td>\n",
       "      <td>49.135970</td>\n",
       "      <td>49.298065</td>\n",
       "      <td>34.563517</td>\n",
       "      <td>34.744792</td>\n",
       "      <td>68.422254</td>\n",
       "      <td>-7.837109</td>\n",
       "      <td>8.791176</td>\n",
       "      <td>2017.002277</td>\n",
       "    </tr>\n",
       "    <tr>\n",
       "      <td>std</td>\n",
       "      <td>2.602819</td>\n",
       "      <td>6.545571</td>\n",
       "      <td>7.304975</td>\n",
       "      <td>6.472676</td>\n",
       "      <td>0.255291</td>\n",
       "      <td>3.130430</td>\n",
       "      <td>2.859604</td>\n",
       "      <td>1.991637</td>\n",
       "      <td>2.108968</td>\n",
       "      <td>4.101782</td>\n",
       "      <td>...</td>\n",
       "      <td>4.884599</td>\n",
       "      <td>5.900935</td>\n",
       "      <td>3.422136</td>\n",
       "      <td>3.288265</td>\n",
       "      <td>2.742323</td>\n",
       "      <td>2.369727</td>\n",
       "      <td>3.258920</td>\n",
       "      <td>6.988694</td>\n",
       "      <td>4.674090</td>\n",
       "      <td>1.415419</td>\n",
       "    </tr>\n",
       "    <tr>\n",
       "      <td>min</td>\n",
       "      <td>24.000000</td>\n",
       "      <td>0.000000</td>\n",
       "      <td>76.700000</td>\n",
       "      <td>84.000000</td>\n",
       "      <td>0.007700</td>\n",
       "      <td>39.400000</td>\n",
       "      <td>39.600000</td>\n",
       "      <td>12.400000</td>\n",
       "      <td>10.200000</td>\n",
       "      <td>15.000000</td>\n",
       "      <td>...</td>\n",
       "      <td>21.600000</td>\n",
       "      <td>21.800000</td>\n",
       "      <td>37.700000</td>\n",
       "      <td>37.700000</td>\n",
       "      <td>25.200000</td>\n",
       "      <td>27.100000</td>\n",
       "      <td>57.200000</td>\n",
       "      <td>-25.200000</td>\n",
       "      <td>1.000000</td>\n",
       "      <td>2015.000000</td>\n",
       "    </tr>\n",
       "    <tr>\n",
       "      <td>25%</td>\n",
       "      <td>30.000000</td>\n",
       "      <td>12.000000</td>\n",
       "      <td>98.600000</td>\n",
       "      <td>98.900000</td>\n",
       "      <td>0.283700</td>\n",
       "      <td>48.100000</td>\n",
       "      <td>48.400000</td>\n",
       "      <td>17.200000</td>\n",
       "      <td>17.100000</td>\n",
       "      <td>26.600000</td>\n",
       "      <td>...</td>\n",
       "      <td>31.700000</td>\n",
       "      <td>31.200000</td>\n",
       "      <td>46.900000</td>\n",
       "      <td>47.100000</td>\n",
       "      <td>32.600000</td>\n",
       "      <td>33.100000</td>\n",
       "      <td>66.400000</td>\n",
       "      <td>-13.000000</td>\n",
       "      <td>5.000000</td>\n",
       "      <td>2016.000000</td>\n",
       "    </tr>\n",
       "    <tr>\n",
       "      <td>50%</td>\n",
       "      <td>31.000000</td>\n",
       "      <td>16.000000</td>\n",
       "      <td>103.100000</td>\n",
       "      <td>103.800000</td>\n",
       "      <td>0.474000</td>\n",
       "      <td>50.000000</td>\n",
       "      <td>50.300000</td>\n",
       "      <td>18.500000</td>\n",
       "      <td>18.500000</td>\n",
       "      <td>29.400000</td>\n",
       "      <td>...</td>\n",
       "      <td>34.900000</td>\n",
       "      <td>34.900000</td>\n",
       "      <td>49.000000</td>\n",
       "      <td>49.300000</td>\n",
       "      <td>34.600000</td>\n",
       "      <td>34.700000</td>\n",
       "      <td>68.500000</td>\n",
       "      <td>-8.400000</td>\n",
       "      <td>9.000000</td>\n",
       "      <td>2017.000000</td>\n",
       "    </tr>\n",
       "    <tr>\n",
       "      <td>75%</td>\n",
       "      <td>33.000000</td>\n",
       "      <td>21.000000</td>\n",
       "      <td>108.100000</td>\n",
       "      <td>108.000000</td>\n",
       "      <td>0.710600</td>\n",
       "      <td>52.100000</td>\n",
       "      <td>52.300000</td>\n",
       "      <td>19.800000</td>\n",
       "      <td>19.900000</td>\n",
       "      <td>31.900000</td>\n",
       "      <td>...</td>\n",
       "      <td>38.300000</td>\n",
       "      <td>39.200000</td>\n",
       "      <td>51.400000</td>\n",
       "      <td>51.500000</td>\n",
       "      <td>36.400000</td>\n",
       "      <td>36.300000</td>\n",
       "      <td>70.400000</td>\n",
       "      <td>-3.100000</td>\n",
       "      <td>13.000000</td>\n",
       "      <td>2018.000000</td>\n",
       "    </tr>\n",
       "    <tr>\n",
       "      <td>max</td>\n",
       "      <td>40.000000</td>\n",
       "      <td>38.000000</td>\n",
       "      <td>129.100000</td>\n",
       "      <td>124.000000</td>\n",
       "      <td>0.984200</td>\n",
       "      <td>59.800000</td>\n",
       "      <td>59.500000</td>\n",
       "      <td>26.100000</td>\n",
       "      <td>28.000000</td>\n",
       "      <td>42.100000</td>\n",
       "      <td>...</td>\n",
       "      <td>51.000000</td>\n",
       "      <td>58.500000</td>\n",
       "      <td>62.600000</td>\n",
       "      <td>61.200000</td>\n",
       "      <td>44.100000</td>\n",
       "      <td>43.100000</td>\n",
       "      <td>83.400000</td>\n",
       "      <td>13.100000</td>\n",
       "      <td>16.000000</td>\n",
       "      <td>2019.000000</td>\n",
       "    </tr>\n",
       "  </tbody>\n",
       "</table>\n",
       "<p>8 rows × 21 columns</p>\n",
       "</div>"
      ],
      "text/plain": [
       "                 G            W        ADJOE        ADJDE      BARTHAG  \\\n",
       "count  1757.000000  1757.000000  1757.000000  1757.000000  1757.000000   \n",
       "mean     31.523051    16.513375   103.542402   103.542459     0.493398   \n",
       "std       2.602819     6.545571     7.304975     6.472676     0.255291   \n",
       "min      24.000000     0.000000    76.700000    84.000000     0.007700   \n",
       "25%      30.000000    12.000000    98.600000    98.900000     0.283700   \n",
       "50%      31.000000    16.000000   103.100000   103.800000     0.474000   \n",
       "75%      33.000000    21.000000   108.100000   108.000000     0.710600   \n",
       "max      40.000000    38.000000   129.100000   124.000000     0.984200   \n",
       "\n",
       "             EFG_O        EFG_D          TOR         TORD          ORB  ...  \\\n",
       "count  1757.000000  1757.000000  1757.000000  1757.000000  1757.000000  ...   \n",
       "mean     50.120489    50.312806    18.591804    18.521286    29.277120  ...   \n",
       "std       3.130430     2.859604     1.991637     2.108968     4.101782  ...   \n",
       "min      39.400000    39.600000    12.400000    10.200000    15.000000  ...   \n",
       "25%      48.100000    48.400000    17.200000    17.100000    26.600000  ...   \n",
       "50%      50.000000    50.300000    18.500000    18.500000    29.400000  ...   \n",
       "75%      52.100000    52.300000    19.800000    19.900000    31.900000  ...   \n",
       "max      59.800000    59.500000    26.100000    28.000000    42.100000  ...   \n",
       "\n",
       "               FTR         FTRD         2P_O         2P_D         3P_O  \\\n",
       "count  1757.000000  1757.000000  1757.000000  1757.000000  1757.000000   \n",
       "mean     35.097894    35.373307    49.135970    49.298065    34.563517   \n",
       "std       4.884599     5.900935     3.422136     3.288265     2.742323   \n",
       "min      21.600000    21.800000    37.700000    37.700000    25.200000   \n",
       "25%      31.700000    31.200000    46.900000    47.100000    32.600000   \n",
       "50%      34.900000    34.900000    49.000000    49.300000    34.600000   \n",
       "75%      38.300000    39.200000    51.400000    51.500000    36.400000   \n",
       "max      51.000000    58.500000    62.600000    61.200000    44.100000   \n",
       "\n",
       "              3P_D        ADJ_T          WAB        SEED         YEAR  \n",
       "count  1757.000000  1757.000000  1757.000000  340.000000  1757.000000  \n",
       "mean     34.744792    68.422254    -7.837109    8.791176  2017.002277  \n",
       "std       2.369727     3.258920     6.988694    4.674090     1.415419  \n",
       "min      27.100000    57.200000   -25.200000    1.000000  2015.000000  \n",
       "25%      33.100000    66.400000   -13.000000    5.000000  2016.000000  \n",
       "50%      34.700000    68.500000    -8.400000    9.000000  2017.000000  \n",
       "75%      36.300000    70.400000    -3.100000   13.000000  2018.000000  \n",
       "max      43.100000    83.400000    13.100000   16.000000  2019.000000  \n",
       "\n",
       "[8 rows x 21 columns]"
      ]
     },
     "execution_count": 10,
     "metadata": {},
     "output_type": "execute_result"
    }
   ],
   "source": [
    "df.describe()"
   ]
  },
  {
   "cell_type": "code",
   "execution_count": 11,
   "metadata": {},
   "outputs": [
    {
     "data": {
      "text/plain": [
       "(1757, 24)"
      ]
     },
     "execution_count": 11,
     "metadata": {},
     "output_type": "execute_result"
    }
   ],
   "source": [
    "## size of dataset\n",
    "df.shape"
   ]
  },
  {
   "cell_type": "code",
   "execution_count": 12,
   "metadata": {},
   "outputs": [
    {
     "data": {
      "text/plain": [
       "TEAM             0\n",
       "CONF             0\n",
       "G                0\n",
       "W                0\n",
       "ADJOE            0\n",
       "ADJDE            0\n",
       "BARTHAG          0\n",
       "EFG_O            0\n",
       "EFG_D            0\n",
       "TOR              0\n",
       "TORD             0\n",
       "ORB              0\n",
       "DRB              0\n",
       "FTR              0\n",
       "FTRD             0\n",
       "2P_O             0\n",
       "2P_D             0\n",
       "3P_O             0\n",
       "3P_D             0\n",
       "ADJ_T            0\n",
       "WAB              0\n",
       "POSTSEASON    1417\n",
       "SEED          1417\n",
       "YEAR             0\n",
       "dtype: int64"
      ]
     },
     "execution_count": 12,
     "metadata": {},
     "output_type": "execute_result"
    }
   ],
   "source": [
    "## any NA values\n",
    "df.isnull().sum()"
   ]
  },
  {
   "cell_type": "markdown",
   "metadata": {},
   "source": [
    "##### From this, I can conclude/confirm that there are only two columns that contain NA values. In the case of this dataset and for the purposes of this project, these NA values actually tell us something: that \"(1757-340)= 1417\" teams have never made it to the March Madness tournament."
   ]
  },
  {
   "cell_type": "markdown",
   "metadata": {},
   "source": [
    " "
   ]
  },
  {
   "cell_type": "markdown",
   "metadata": {},
   "source": [
    "#### Inspecting the target column, \"SEED\""
   ]
  },
  {
   "cell_type": "code",
   "execution_count": 13,
   "metadata": {},
   "outputs": [
    {
     "data": {
      "text/plain": [
       "array([ 1.,  1.,  3., ...,  2., 11.,  4.])"
      ]
     },
     "execution_count": 13,
     "metadata": {},
     "output_type": "execute_result"
    }
   ],
   "source": [
    "df['SEED'].values"
   ]
  },
  {
   "cell_type": "code",
   "execution_count": 14,
   "metadata": {},
   "outputs": [
    {
     "data": {
      "text/plain": [
       "<bound method IndexOpsMixin.value_counts of 0        1.0\n",
       "1        1.0\n",
       "2        3.0\n",
       "3        3.0\n",
       "4        1.0\n",
       "        ... \n",
       "1752     7.0\n",
       "1753     3.0\n",
       "1754     2.0\n",
       "1755    11.0\n",
       "1756     4.0\n",
       "Name: SEED, Length: 1757, dtype: float64>"
      ]
     },
     "execution_count": 14,
     "metadata": {},
     "output_type": "execute_result"
    }
   ],
   "source": [
    "df['SEED'].value_counts"
   ]
  },
  {
   "cell_type": "code",
   "execution_count": 15,
   "metadata": {},
   "outputs": [
    {
     "name": "stdout",
     "output_type": "stream",
     "text": [
      "1.0\n",
      "16.0\n"
     ]
    }
   ],
   "source": [
    "print(np.min(df['SEED']))\n",
    "print(np.max(df['SEED']))"
   ]
  },
  {
   "cell_type": "markdown",
   "metadata": {},
   "source": [
    "##### This informs me that the highest SEED number is 16, for each basketball tournament. (Refer to *00_dataset-variables.ipynb* for more information on \"SEED\")"
   ]
  },
  {
   "cell_type": "markdown",
   "metadata": {},
   "source": [
    " "
   ]
  },
  {
   "cell_type": "code",
   "execution_count": 16,
   "metadata": {},
   "outputs": [
    {
     "data": {
      "text/plain": [
       "array([2016, 2015, 2018, 2019, 2017])"
      ]
     },
     "execution_count": 16,
     "metadata": {},
     "output_type": "execute_result"
    }
   ],
   "source": [
    "df['YEAR'].unique()"
   ]
  },
  {
   "cell_type": "markdown",
   "metadata": {},
   "source": [
    "##### The dataset spans 5 years."
   ]
  },
  {
   "cell_type": "markdown",
   "metadata": {},
   "source": [
    " "
   ]
  },
  {
   "cell_type": "markdown",
   "metadata": {},
   "source": [
    "### 20-Exploratory Data Analysis"
   ]
  },
  {
   "cell_type": "markdown",
   "metadata": {},
   "source": [
    "#### Which columns in the dataset contain numeric values?"
   ]
  },
  {
   "cell_type": "code",
   "execution_count": 17,
   "metadata": {},
   "outputs": [
    {
     "name": "stdout",
     "output_type": "stream",
     "text": [
      "Index(['G', 'W', 'ADJOE', 'ADJDE', 'BARTHAG', 'EFG_O', 'EFG_D', 'TOR', 'TORD',\n",
      "       'ORB', 'DRB', 'FTR', 'FTRD', '2P_O', '2P_D', '3P_O', '3P_D', 'ADJ_T',\n",
      "       'WAB', 'SEED', 'YEAR'],\n",
      "      dtype='object')\n"
     ]
    }
   ],
   "source": [
    "numeric_df = df.select_dtypes(include=['int', 'float'])\n",
    "\n",
    "# Print the column names contained in df\n",
    "print(numeric_df.columns)"
   ]
  },
  {
   "cell_type": "markdown",
   "metadata": {},
   "source": [
    "#### Explore the values in each of these numeric columns to determine which ones are necessary for the purposes of my project:"
   ]
  },
  {
   "cell_type": "code",
   "execution_count": 18,
   "metadata": {},
   "outputs": [
    {
     "name": "stdout",
     "output_type": "stream",
     "text": [
      "[40 40 40 ... 36 35 37]\n",
      "[33 36 33 ... 31 27 32]\n",
      "[123.3 129.1 114.4 ... 122.8 117.4 117.2]\n",
      "[0.9531 0.9758 0.9375 ... 0.9488 0.9238 0.9192]\n",
      "[52.6 54.8 53.9 ... 55.3 55.2 57. ]\n"
     ]
    }
   ],
   "source": [
    "print(df['G'].values)\n",
    "print(df['W'].values)\n",
    "print(df['ADJOE'].values)\n",
    "print(df['BARTHAG'].values)\n",
    "print(df['EFG_O'].values)"
   ]
  },
  {
   "cell_type": "markdown",
   "metadata": {},
   "source": [
    "##### From inspecting the values of only 5 columns fromthe dataset, I can tell that there is the need to either standardize or normalize the values in the various numeric columns of my dataset. I will do this in the feature emginnering notebook, \"30-Feature Engineering\""
   ]
  },
  {
   "cell_type": "markdown",
   "metadata": {},
   "source": [
    " "
   ]
  },
  {
   "cell_type": "markdown",
   "metadata": {},
   "source": [
    "#### Which columns in the dataset contain string values?"
   ]
  },
  {
   "cell_type": "code",
   "execution_count": 19,
   "metadata": {},
   "outputs": [
    {
     "name": "stdout",
     "output_type": "stream",
     "text": [
      "Index(['TEAM', 'CONF', 'POSTSEASON'], dtype='object')\n"
     ]
    }
   ],
   "source": [
    "string_df = df.select_dtypes(include=['object'])\n",
    "print(string_df.columns)"
   ]
  },
  {
   "cell_type": "markdown",
   "metadata": {},
   "source": [
    "#### Explore the values in each of these three columns to determine if they should be used for predictions:"
   ]
  },
  {
   "cell_type": "code",
   "execution_count": 20,
   "metadata": {},
   "outputs": [
    {
     "name": "stdout",
     "output_type": "stream",
     "text": [
      "['North Carolina' 'Wisconsin' 'Michigan' ... 'Tennessee' 'Gonzaga'\n",
      " 'Gonzaga']\n",
      "['ACC' 'B10' 'B10' ... 'SEC' 'WCC' 'WCC']\n",
      "['2ND' '2ND' '2ND' ... 'S16' 'S16' 'S16']\n"
     ]
    }
   ],
   "source": [
    "print(df['TEAM'].values)\n",
    "print(df['CONF'].values)\n",
    "print(df['POSTSEASON'].values)"
   ]
  },
  {
   "cell_type": "markdown",
   "metadata": {},
   "source": [
    "##### It could be helpful to explore the number of teams that make it to the tournament from each league (Ex. ACC, B10, SEC, etc), how highly they're ranked in the national tournament, and how their performaces vary from year to year. However, these explorations would not be necessary, for the purposes of my project. "
   ]
  },
  {
   "cell_type": "markdown",
   "metadata": {},
   "source": [
    " "
   ]
  },
  {
   "cell_type": "markdown",
   "metadata": {},
   "source": [
    "#### Check the distribution of the features in the dataset because most ML models assume that the data is normally distributed:"
   ]
  },
  {
   "cell_type": "code",
   "execution_count": 21,
   "metadata": {},
   "outputs": [
    {
     "data": {
      "image/png": "[encoded data removed]",
      "text/plain": [
       "<Figure size 432x288 with 25 Axes>"
      ]
     },
     "metadata": {},
     "output_type": "display_data"
    }
   ],
   "source": [
    "df.hist()\n",
    "plt.show()"
   ]
  },
  {
   "cell_type": "markdown",
   "metadata": {},
   "source": [
    "#### I'd like to explore the possibility of some of the features in the dataset being correlated/having a relationship:"
   ]
  },
  {
   "cell_type": "code",
   "execution_count": null,
   "metadata": {},
   "outputs": [],
   "source": [
    "sns.pairplot(df)\n",
    "plt.show()"
   ]
  },
  {
   "cell_type": "markdown",
   "metadata": {},
   "source": [
    "#### From quick observation, some of the positive correlations make a lot of sense. For example:\n",
    "- BARTHAG, Power Rating & W, Number of games won. A team with a higher chance of beating an average Division I team can be expected to have a high number of wins. \n",
    "\n",
    "- 2P_D, Two-Point Shooting Percentage Allowed & ADJDE, Adjusted Defensive Efficiency. A team that prevents the opposing team from making baskets can be said to be efficient, defensively. "
   ]
  },
  {
   "cell_type": "markdown",
   "metadata": {},
   "source": [
    " "
   ]
  },
  {
   "cell_type": "markdown",
   "metadata": {},
   "source": [
    "### 30-Feature Engineering "
   ]
  },
  {
   "cell_type": "markdown",
   "metadata": {},
   "source": [
    "#### label the target column, 'Y'"
   ]
  },
  {
   "cell_type": "code",
   "execution_count": null,
   "metadata": {},
   "outputs": [],
   "source": [
    "Y = df['SEED'].copy()"
   ]
  },
  {
   "cell_type": "markdown",
   "metadata": {},
   "source": [
    "#### Repalce the null values with 0 since it was confirmed that the null values in the dataset are non-trivial: they represent teams that never made it to the basketball tournament"
   ]
  },
  {
   "cell_type": "code",
   "execution_count": null,
   "metadata": {},
   "outputs": [],
   "source": [
    "Y.fillna(0, inplace = True)"
   ]
  },
  {
   "cell_type": "code",
   "execution_count": null,
   "metadata": {},
   "outputs": [],
   "source": [
    "Y.value_counts()"
   ]
  },
  {
   "cell_type": "markdown",
   "metadata": {},
   "source": [
    "#### Replace values ranging from 1-16 with '1' so that '1' will refer to teams that made it to the tournament and '0' will represent teams that did not make it"
   ]
  },
  {
   "cell_type": "code",
   "execution_count": null,
   "metadata": {},
   "outputs": [],
   "source": [
    "Y.replace([1,2,3,4,5,6,7,8,9,10,11,12,13,14,15,16], 1, inplace=True)"
   ]
  },
  {
   "cell_type": "markdown",
   "metadata": {},
   "source": [
    " "
   ]
  },
  {
   "cell_type": "markdown",
   "metadata": {},
   "source": [
    "#### Remove string columns since it was determined in \"20-Exploratory_Data_Analysis\" that these columns will not be used for the purposes of this project, as well as the target column, 'SEED'/'Y"
   ]
  },
  {
   "cell_type": "code",
   "execution_count": null,
   "metadata": {},
   "outputs": [],
   "source": [
    "string_df"
   ]
  },
  {
   "cell_type": "code",
   "execution_count": null,
   "metadata": {},
   "outputs": [],
   "source": [
    "strings = ['TEAM', 'CONF', 'POSTSEASON', 'SEED']\n",
    "df.drop(columns = strings, inplace = True)"
   ]
  },
  {
   "cell_type": "code",
   "execution_count": null,
   "metadata": {},
   "outputs": [],
   "source": [
    "df.columns"
   ]
  },
  {
   "cell_type": "code",
   "execution_count": null,
   "metadata": {},
   "outputs": [],
   "source": [
    "df"
   ]
  },
  {
   "cell_type": "markdown",
   "metadata": {},
   "source": [
    "#### standardizing the remaining columns, the predictors. First, let's check for variance:"
   ]
  },
  {
   "cell_type": "code",
   "execution_count": null,
   "metadata": {},
   "outputs": [],
   "source": [
    "df.var().round(3)"
   ]
  },
  {
   "cell_type": "code",
   "execution_count": null,
   "metadata": {},
   "outputs": [],
   "source": [
    "x = df.values #returns a numpy array\n",
    "min_max_scaler = preprocessing.MinMaxScaler()\n",
    "x_scaled = min_max_scaler.fit_transform(x)\n",
    "df = pd.DataFrame(x_scaled)"
   ]
  },
  {
   "cell_type": "code",
   "execution_count": null,
   "metadata": {},
   "outputs": [],
   "source": [
    "df.var().round(3)"
   ]
  },
  {
   "cell_type": "code",
   "execution_count": null,
   "metadata": {},
   "outputs": [],
   "source": [
    "df = df.assign(Y=Y.values)"
   ]
  },
  {
   "cell_type": "code",
   "execution_count": null,
   "metadata": {},
   "outputs": [],
   "source": [
    "df"
   ]
  },
  {
   "cell_type": "markdown",
   "metadata": {},
   "source": [
    " "
   ]
  },
  {
   "cell_type": "markdown",
   "metadata": {},
   "source": [
    "### 40-Modeling"
   ]
  },
  {
   "cell_type": "markdown",
   "metadata": {},
   "source": [
    "#### Split the dataset into train and test sets"
   ]
  },
  {
   "cell_type": "markdown",
   "metadata": {},
   "source": [
    "##### it is important to remember that the number of teams that make it to the tournament and those that don't is imbalanced. I will account for this imbalance during the splitting process through the \"stratify\" method:"
   ]
  },
  {
   "cell_type": "code",
   "execution_count": null,
   "metadata": {},
   "outputs": [],
   "source": [
    "# Split DataFrame into\n",
    "# X_train, X_test, y_train and y_test datasets,\n",
    "# stratifying on the `target` column\n",
    "X_train, X_test, y_train, y_test = train_test_split(\n",
    "    df.drop(columns='Y'),\n",
    "    df.Y,\n",
    "    test_size=0.25,\n",
    "    random_state=42,\n",
    "    stratify=df.Y\n",
    ")"
   ]
  },
  {
   "cell_type": "code",
   "execution_count": null,
   "metadata": {},
   "outputs": [],
   "source": [
    "X_train.head(2)"
   ]
  },
  {
   "cell_type": "code",
   "execution_count": null,
   "metadata": {},
   "outputs": [],
   "source": [
    "X_test.head(2)"
   ]
  },
  {
   "cell_type": "markdown",
   "metadata": {},
   "source": [
    "#### I will be using a simple Logistic Regression model for this project, at least for now. My reason is that logistic regression is suitable for when a Y variable takes on only two values. Such a variable is referred to a “binary” or “dichotomous.” “Dichotomous” basically means two categories such as yes/no, defective/non-defective, success/failure, and so on. For this project, my goal is to predict whether a college basketball team will make it to the March Madness tournament (1) or not (0)"
   ]
  },
  {
   "cell_type": "code",
   "execution_count": null,
   "metadata": {},
   "outputs": [],
   "source": [
    "# Instantiate LogisticRegression\n",
    "logreg = linear_model.LogisticRegression(\n",
    "    solver='liblinear',\n",
    "    random_state=42\n",
    ")\n",
    "\n",
    "# Train the model\n",
    "logreg.fit(X_train, y_train)\n",
    "\n",
    "logreg_auc_score = roc_auc_score(y_test, logreg.predict_proba(X_test)[:, 1])\n",
    "print(f'\\nAUC score: {logreg_auc_score:.4f}')"
   ]
  },
  {
   "cell_type": "markdown",
   "metadata": {},
   "source": [
    "##### This is actually impressive and it makes me wonder if I missed anything. The fact that I didn't do much to arrive at this level of accuracy makes me wonder why \"Bracketology\" is such an unconquered beast in the sports world. But I guess it gets more complicated when people try to predict every single game's outcome. I plan on trying a few other models soon. "
   ]
  }
 ],
 "metadata": {
  "kernelspec": {
   "display_name": "Python 3",
   "language": "python",
   "name": "python3"
  },
  "language_info": {
   "codemirror_mode": {
    "name": "ipython",
    "version": 3
   },
   "file_extension": ".py",
   "mimetype": "text/x-python",
   "name": "python",
   "nbconvert_exporter": "python",
   "pygments_lexer": "ipython3",
   "version": "3.7.4"
  }
 },
 "nbformat": 4,
 "nbformat_minor": 4
}
