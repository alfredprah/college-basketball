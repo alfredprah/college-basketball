{
 "cells": [
  {
   "cell_type": "markdown",
   "metadata": {},
   "source": [
    "## Columns/Variables:\n",
    "- TEAM: The Division I college basketball school\n",
    " \n",
    "- CONF: The Athletic Conference in which the school participates in (A10 = Atlantic 10, ACC = Atlantic Coast Conference, AE = America East, Amer = American, ASun = ASUN, B10 = Big Ten, B12 = Big 12, BE = Big East, BSky = Big Sky, BSth = Big South, BW = Big West, CAA = Colonial Athletic Association, CUSA = Conference USA, Horz = Horizon League, Ivy = Ivy League, MAAC = Metro Atlantic Athletic Conference, MAC = Mid-American Conference, MEAC = Mid-Eastern Athletic Conference, MVC = Missouri Valley Conference, MWC = Mountain West, NEC = Northeast Conference, OVC = Ohio Valley Conference, P12 = Pac-12, Pat = Patriot League, SB = Sun Belt, SC = Southern Conference, SEC = South Eastern Conference, Slnd = Southland Conference, Sum = Summit League, SWAC = Southwestern Athletic Conference, WAC = Western Athletic Conference, WCC = West Coast Conference)\n",
    "\n",
    "- G: Number of games played\n",
    "\n",
    "- W: Number of games won\n",
    "\n",
    "- ADJOE: Adjusted Offensive Efficiency (An estimate of the offensive efficiency (points scored per 100 possessions) a team would have against the average Division I defense)\n",
    "\n",
    "- ADJDE: Adjusted Defensive Efficiency (An estimate of the defensive efficiency (points allowed per 100 possessions) a team would have against the average Division I offense)\n",
    "\n",
    "- BARTHAG: Power Rating (Chance of beating an average Division I team)\n",
    "\n",
    "- EFG_O: Effective Field Goal Percentage Shot\n",
    "\n",
    "- EFG_D: Effective Field Goal Percentage Allowed\n",
    "\n",
    "- TOR: Turnover Percentage Allowed (Turnover Rate)\n",
    "\n",
    "- TORD: Turnover Percentage Committed (Steal Rate)\n",
    "\n",
    "- ORB: Offensive Rebound Percentage\n",
    "\n",
    "- DRB: Defensive Rebound Percentage\n",
    "\n",
    "- FTR: Free Throw Rate (How often the given team shoots Free Throws)\n",
    "\n",
    "- FTRD: Free Throw Rate Allowed\n",
    "\n",
    "- 2P_O: Two-Point Shooting Percentage\n",
    "\n",
    "- 2P_D: Two-Point Shooting Percentage Allowed\n",
    "\n",
    "- 3P_O: Three-Point Shooting Percentage\n",
    "\n",
    "- 3P_D: Three-Point Shooting Percentage Allowed\n",
    "\n",
    "- ADJ_T: Adjusted Tempo (An estimate of the tempo (possessions per 40 minutes) a team would have against the team that wants to play at an average Division I tempo)\n",
    "\n",
    "- WAB: Wins Above Bubble (The bubble refers to the cut off between making the NCAA March Madness Tournament and not making it)\n",
    "\n",
    "- POSTSEASON: Round where the given team was eliminated or where their season ended (R68 = First Four, R64 = Round of 64, R32 = Round of 32, S16 = Sweet Sixteen, E8 = Elite Eight, F4 = Final Four, 2ND = Runner-up, Champion = Winner of the NCAA March Madness Tournament for that given year)\n",
    "\n",
    "- SEED: Seed in the NCAA March Madness Tournament\n",
    "\n",
    "- YEAR: Season"
   ]
  }
 ],
 "metadata": {
  "kernelspec": {
   "display_name": "Python 3",
   "language": "python",
   "name": "python3"
  },
  "language_info": {
   "codemirror_mode": {
    "name": "ipython",
    "version": 3
   },
   "file_extension": ".py",
   "mimetype": "text/x-python",
   "name": "python",
   "nbconvert_exporter": "python",
   "pygments_lexer": "ipython3",
   "version": "3.7.4"
  }
 },
 "nbformat": 4,
 "nbformat_minor": 2
}
