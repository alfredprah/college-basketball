{
 "cells": [
  {
   "cell_type": "code",
   "execution_count": 18,
   "metadata": {},
   "outputs": [],
   "source": [
    "import pandas as pd\n",
    "import numpy as np\n",
    "from sklearn.model_selection import train_test_split"
   ]
  },
  {
   "cell_type": "code",
   "execution_count": 4,
   "metadata": {},
   "outputs": [],
   "source": [
    "df = pd.read_csv('cbb.csv')"
   ]
  },
  {
   "cell_type": "code",
   "execution_count": 5,
   "metadata": {},
   "outputs": [
    {
     "data": {
      "text/plain": [
       "<bound method NDFrame.keys of                 TEAM CONF   G   W  ADJOE  ADJDE  BARTHAG  EFG_O  EFG_D   TOR  \\\n",
       "0     North Carolina  ACC  40  33  123.3   94.9   0.9531   52.6   48.1  15.4   \n",
       "1          Wisconsin  B10  40  36  129.1   93.6   0.9758   54.8   47.7  12.4   \n",
       "2           Michigan  B10  40  33  114.4   90.4   0.9375   53.9   47.7  14.0   \n",
       "3         Texas Tech  B12  38  31  115.2   85.2   0.9696   53.5   43.0  17.7   \n",
       "4            Gonzaga  WCC  39  37  117.8   86.3   0.9728   56.6   41.1  16.2   \n",
       "...              ...  ...  ..  ..    ...    ...      ...    ...    ...   ...   \n",
       "1752       Texas A&M  SEC  35  22  111.2   94.7   0.8640   51.4   46.9  19.2   \n",
       "1753             LSU  SEC  35  28  117.9   96.6   0.9081   51.2   49.9  17.9   \n",
       "1754       Tennessee  SEC  36  31  122.8   95.2   0.9488   55.3   48.1  15.8   \n",
       "1755         Gonzaga  WCC  35  27  117.4   94.5   0.9238   55.2   44.8  17.1   \n",
       "1756         Gonzaga  WCC  37  32  117.2   94.9   0.9192   57.0   47.1  16.1   \n",
       "\n",
       "      ...  FTRD  2P_O  2P_D  3P_O  3P_D  ADJ_T   WAB  POSTSEASON  SEED  YEAR  \n",
       "0     ...  30.4  53.9  44.6  32.7  36.2   71.7   8.6         2ND   1.0  2016  \n",
       "1     ...  22.4  54.8  44.7  36.5  37.5   59.3  11.3         2ND   1.0  2015  \n",
       "2     ...  30.0  54.7  46.8  35.2  33.2   65.9   6.9         2ND   3.0  2018  \n",
       "3     ...  36.6  52.8  41.9  36.5  29.7   67.5   7.0         2ND   3.0  2019  \n",
       "4     ...  26.9  56.3  40.0  38.2  29.0   71.5   7.7         2ND   1.0  2017  \n",
       "...   ...   ...   ...   ...   ...   ...    ...   ...         ...   ...   ...  \n",
       "1752  ...  27.6  52.5  45.7  32.9  32.6   70.3   1.9         S16   7.0  2018  \n",
       "1753  ...  33.1  52.9  49.4  31.9  33.7   71.2   7.3         S16   3.0  2019  \n",
       "1754  ...  34.9  55.4  44.7  36.7  35.4   68.8   9.9         S16   2.0  2019  \n",
       "1755  ...  28.1  54.3  44.4  37.8  30.3   68.2   2.1         S16  11.0  2016  \n",
       "1756  ...  29.1  58.2  44.1  36.8  35.0   70.5   4.9         S16   4.0  2018  \n",
       "\n",
       "[1757 rows x 24 columns]>"
      ]
     },
     "execution_count": 5,
     "metadata": {},
     "output_type": "execute_result"
    }
   ],
   "source": [
    "df.keys"
   ]
  },
  {
   "cell_type": "code",
   "execution_count": 6,
   "metadata": {},
   "outputs": [],
   "source": [
    "y = df['SEED']"
   ]
  },
  {
   "cell_type": "code",
   "execution_count": 7,
   "metadata": {},
   "outputs": [
    {
     "data": {
      "text/plain": [
       "(1757,)"
      ]
     },
     "execution_count": 7,
     "metadata": {},
     "output_type": "execute_result"
    }
   ],
   "source": [
    "y.shape"
   ]
  },
  {
   "cell_type": "code",
   "execution_count": 14,
   "metadata": {},
   "outputs": [],
   "source": [
    "df = df.drop(['SEED'], axis =1)"
   ]
  },
  {
   "cell_type": "code",
   "execution_count": 16,
   "metadata": {},
   "outputs": [
    {
     "data": {
      "text/plain": [
       "<bound method NDFrame.keys of                 TEAM CONF   G   W  ADJOE  ADJDE  BARTHAG  EFG_O  EFG_D   TOR  \\\n",
       "0     North Carolina  ACC  40  33  123.3   94.9   0.9531   52.6   48.1  15.4   \n",
       "1          Wisconsin  B10  40  36  129.1   93.6   0.9758   54.8   47.7  12.4   \n",
       "2           Michigan  B10  40  33  114.4   90.4   0.9375   53.9   47.7  14.0   \n",
       "3         Texas Tech  B12  38  31  115.2   85.2   0.9696   53.5   43.0  17.7   \n",
       "4            Gonzaga  WCC  39  37  117.8   86.3   0.9728   56.6   41.1  16.2   \n",
       "...              ...  ...  ..  ..    ...    ...      ...    ...    ...   ...   \n",
       "1752       Texas A&M  SEC  35  22  111.2   94.7   0.8640   51.4   46.9  19.2   \n",
       "1753             LSU  SEC  35  28  117.9   96.6   0.9081   51.2   49.9  17.9   \n",
       "1754       Tennessee  SEC  36  31  122.8   95.2   0.9488   55.3   48.1  15.8   \n",
       "1755         Gonzaga  WCC  35  27  117.4   94.5   0.9238   55.2   44.8  17.1   \n",
       "1756         Gonzaga  WCC  37  32  117.2   94.9   0.9192   57.0   47.1  16.1   \n",
       "\n",
       "      ...   FTR  FTRD  2P_O  2P_D  3P_O  3P_D  ADJ_T   WAB  POSTSEASON  YEAR  \n",
       "0     ...  32.3  30.4  53.9  44.6  32.7  36.2   71.7   8.6         2ND  2016  \n",
       "1     ...  36.2  22.4  54.8  44.7  36.5  37.5   59.3  11.3         2ND  2015  \n",
       "2     ...  30.7  30.0  54.7  46.8  35.2  33.2   65.9   6.9         2ND  2018  \n",
       "3     ...  32.9  36.6  52.8  41.9  36.5  29.7   67.5   7.0         2ND  2019  \n",
       "4     ...  39.0  26.9  56.3  40.0  38.2  29.0   71.5   7.7         2ND  2017  \n",
       "...   ...   ...   ...   ...   ...   ...   ...    ...   ...         ...   ...  \n",
       "1752  ...  32.0  27.6  52.5  45.7  32.9  32.6   70.3   1.9         S16  2018  \n",
       "1753  ...  37.1  33.1  52.9  49.4  31.9  33.7   71.2   7.3         S16  2019  \n",
       "1754  ...  33.3  34.9  55.4  44.7  36.7  35.4   68.8   9.9         S16  2019  \n",
       "1755  ...  34.4  28.1  54.3  44.4  37.8  30.3   68.2   2.1         S16  2016  \n",
       "1756  ...  32.1  29.1  58.2  44.1  36.8  35.0   70.5   4.9         S16  2018  \n",
       "\n",
       "[1757 rows x 23 columns]>"
      ]
     },
     "execution_count": 16,
     "metadata": {},
     "output_type": "execute_result"
    }
   ],
   "source": [
    "df.keys"
   ]
  },
  {
   "cell_type": "code",
   "execution_count": 19,
   "metadata": {},
   "outputs": [],
   "source": [
    "X = df"
   ]
  },
  {
   "cell_type": "code",
   "execution_count": 20,
   "metadata": {},
   "outputs": [
    {
     "data": {
      "text/plain": [
       "<bound method NDFrame.keys of                 TEAM CONF   G   W  ADJOE  ADJDE  BARTHAG  EFG_O  EFG_D   TOR  \\\n",
       "0     North Carolina  ACC  40  33  123.3   94.9   0.9531   52.6   48.1  15.4   \n",
       "1          Wisconsin  B10  40  36  129.1   93.6   0.9758   54.8   47.7  12.4   \n",
       "2           Michigan  B10  40  33  114.4   90.4   0.9375   53.9   47.7  14.0   \n",
       "3         Texas Tech  B12  38  31  115.2   85.2   0.9696   53.5   43.0  17.7   \n",
       "4            Gonzaga  WCC  39  37  117.8   86.3   0.9728   56.6   41.1  16.2   \n",
       "...              ...  ...  ..  ..    ...    ...      ...    ...    ...   ...   \n",
       "1752       Texas A&M  SEC  35  22  111.2   94.7   0.8640   51.4   46.9  19.2   \n",
       "1753             LSU  SEC  35  28  117.9   96.6   0.9081   51.2   49.9  17.9   \n",
       "1754       Tennessee  SEC  36  31  122.8   95.2   0.9488   55.3   48.1  15.8   \n",
       "1755         Gonzaga  WCC  35  27  117.4   94.5   0.9238   55.2   44.8  17.1   \n",
       "1756         Gonzaga  WCC  37  32  117.2   94.9   0.9192   57.0   47.1  16.1   \n",
       "\n",
       "      ...   FTR  FTRD  2P_O  2P_D  3P_O  3P_D  ADJ_T   WAB  POSTSEASON  YEAR  \n",
       "0     ...  32.3  30.4  53.9  44.6  32.7  36.2   71.7   8.6         2ND  2016  \n",
       "1     ...  36.2  22.4  54.8  44.7  36.5  37.5   59.3  11.3         2ND  2015  \n",
       "2     ...  30.7  30.0  54.7  46.8  35.2  33.2   65.9   6.9         2ND  2018  \n",
       "3     ...  32.9  36.6  52.8  41.9  36.5  29.7   67.5   7.0         2ND  2019  \n",
       "4     ...  39.0  26.9  56.3  40.0  38.2  29.0   71.5   7.7         2ND  2017  \n",
       "...   ...   ...   ...   ...   ...   ...   ...    ...   ...         ...   ...  \n",
       "1752  ...  32.0  27.6  52.5  45.7  32.9  32.6   70.3   1.9         S16  2018  \n",
       "1753  ...  37.1  33.1  52.9  49.4  31.9  33.7   71.2   7.3         S16  2019  \n",
       "1754  ...  33.3  34.9  55.4  44.7  36.7  35.4   68.8   9.9         S16  2019  \n",
       "1755  ...  34.4  28.1  54.3  44.4  37.8  30.3   68.2   2.1         S16  2016  \n",
       "1756  ...  32.1  29.1  58.2  44.1  36.8  35.0   70.5   4.9         S16  2018  \n",
       "\n",
       "[1757 rows x 23 columns]>"
      ]
     },
     "execution_count": 20,
     "metadata": {},
     "output_type": "execute_result"
    }
   ],
   "source": [
    "X.keys"
   ]
  },
  {
   "cell_type": "code",
   "execution_count": 23,
   "metadata": {},
   "outputs": [],
   "source": [
    "## create training and test data\n",
    "\n",
    "X_train, y_train, X_test, y_test = train_test_split(X, y, test_size = 0.20, random_state = 42)"
   ]
  },
  {
   "cell_type": "code",
   "execution_count": null,
   "metadata": {},
   "outputs": [],
   "source": []
  }
 ],
 "metadata": {
  "kernelspec": {
   "display_name": "Python 3",
   "language": "python",
   "name": "python3"
  },
  "language_info": {
   "codemirror_mode": {
    "name": "ipython",
    "version": 3
   },
   "file_extension": ".py",
   "mimetype": "text/x-python",
   "name": "python",
   "nbconvert_exporter": "python",
   "pygments_lexer": "ipython3",
   "version": "3.7.4"
  }
 },
 "nbformat": 4,
 "nbformat_minor": 2
}
